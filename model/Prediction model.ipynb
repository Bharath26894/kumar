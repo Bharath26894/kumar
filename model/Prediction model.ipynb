{
 "cells": [
  {
   "cell_type": "code",
   "execution_count": null,
   "metadata": {},
   "outputs": [],
   "source": [
    "Prediction Model"
   ]
  },
  {
   "cell_type": "code",
   "execution_count": null,
   "metadata": {},
   "outputs": [],
   "source": [
    "Import necessary libraries"
   ]
  },
  {
   "cell_type": "code",
   "execution_count": 1,
   "metadata": {},
   "outputs": [],
   "source": [
    "import pickle\n",
    "import pandas as pd"
   ]
  },
  {
   "cell_type": "code",
   "execution_count": null,
   "metadata": {},
   "outputs": [],
   "source": [
    "Unpickling"
   ]
  },
  {
   "cell_type": "code",
   "execution_count": 2,
   "metadata": {},
   "outputs": [],
   "source": [
    "model = pd.read_pickle('revolving_balance_project.pickle')"
   ]
  },
  {
   "cell_type": "code",
   "execution_count": null,
   "metadata": {},
   "outputs": [],
   "source": [
    "Colecting information from the Customers"
   ]
  },
  {
   "cell_type": "code",
   "execution_count": 8,
   "metadata": {},
   "outputs": [
    {
     "name": "stdout",
     "output_type": "stream",
     "text": [
      "Enter loan_amnt [500 To 29000] :25000\n",
      "Enter terms [36 OR 60] :36\n",
      "Enter Rate_of_intrst [5 To 23] :7\n",
      "Enter grade [1 To 7] :5\n",
      "Enter Experience [0 To 10] :7\n",
      "Enter annual_inc [1896 To 125000] :120000\n",
      "Enter verification_status [1 To 3] :2\n",
      "Enter debt_income_ratio [0 To 40] :27\n",
      "Enter numb_credit [0 To 22] :17\n",
      "Enter total_credits [0 To 48] :37\n",
      "Enter total_rec_int [0 To 3700] :2700\n",
      "Enter last_week_pay [0 To 160] :108\n",
      "Enter tot_curr_bal [0 To 300000] :100000\n",
      "Enter MORTGAGE [0 OR 1] :0\n",
      "Enter OWN [0 OR 1] :1\n",
      "Enter RENT [0 OR 1] :0\n",
      "Enter Cars and Major purchases [0 OR 1] :0\n",
      "Enter House and house improvements [0 OR 1] :0\n",
      "Enter Wedding and Vacation [0 OR 1] :0\n",
      "Enter credit_card [0 OR 1] :1\n",
      "Enter debt_consolidation [0 OR 1] :1\n",
      "Enter medical [0 OR 1] :1\n",
      "Enter small_business [0 OR 1] :1\n",
      "Enter f [0 OR 1] :0\n",
      "-------------------------------------------------------------------------\n"
     ]
    }
   ],
   "source": [
    "loanamnt = int(input(\"Enter loan_amnt [500 To 29000] :\"))\n",
    "terms = int(input(\"Enter terms [36 OR 60] :\"))\n",
    "Rateofintrst = int(input(\"Enter Rate_of_intrst [5 To 23] :\"))\n",
    "grade = int(input(\"Enter grade [1 To 7] :\"))\n",
    "Experience = int(input(\"Enter Experience [0 To 10] :\"))\n",
    "annualinc = int(input(\"Enter annual_inc [1896 To 125000] :\"))\n",
    "verificationstatus = int(input(\"Enter verification_status [1 To 3] :\"))\n",
    "debtincomeratio = int(input(\"Enter debt_income_ratio [0 To 40] :\"))\n",
    "numbcredit = int(input(\"Enter numb_credit [0 To 22] :\")) \n",
    "totalcredits = int(input(\"Enter total_credits [0 To 48] :\")) \n",
    "totalrecint = int(input(\"Enter total_rec_int [0 To 3700] :\")) \n",
    "lastweekpay = int(input(\"Enter last_week_pay [0 To 160] :\"))\n",
    "totcurrbal = int(input(\"Enter tot_curr_bal [0 To 300000] :\")) \n",
    "MORTGAGE = int(input(\"Enter MORTGAGE [0 OR 1] :\"))\n",
    "OWN = int(input(\"Enter OWN [0 OR 1] :\"))\n",
    "RENT = int(input(\"Enter RENT [0 OR 1] :\"))\n",
    "CarsMajorpurchases = int(input(\"Enter Cars and Major purchases [0 OR 1] :\"))\n",
    "Househouseimprovements = int(input(\"Enter House and house improvements [0 OR 1] :\")) \n",
    "WeddingVacation = int(input(\"Enter Wedding and Vacation [0 OR 1] :\"))\n",
    "creditcard = int(input(\"Enter credit_card [0 OR 1] :\"))\n",
    "debtconsolidation = int(input(\"Enter debt_consolidation [0 OR 1] :\"))\n",
    "medical = int(input(\"Enter medical [0 OR 1] :\"))\n",
    "smallbusiness = int(input(\"Enter small_business [0 OR 1] :\"))\n",
    "f = int(input(\"Enter f [0 OR 1] :\"))\n",
    "print('-------------------------------------------------------------------------')"
   ]
  },
  {
   "cell_type": "code",
   "execution_count": null,
   "metadata": {},
   "outputs": [],
   "source": [
    "Prediction"
   ]
  },
  {
   "cell_type": "code",
   "execution_count": 10,
   "metadata": {},
   "outputs": [
    {
     "name": "stdout",
     "output_type": "stream",
     "text": [
      "totalrevolbalPredicted:36438.23\n"
     ]
    }
   ],
   "source": [
    "totalrevolbalPredicted=model.predict([[loanamnt,terms,Rateofintrst,grade,Experience,annualinc,verificationstatus,debtincomeratio,numbcredit,totalcredits,totalrecint,lastweekpay,totcurrbal,MORTGAGE,OWN,RENT,CarsMajorpurchases,Househouseimprovements,WeddingVacation,creditcard,debtconsolidation,medical,smallbusiness,f]])\n",
    "totalrevolbalPredicted=totalrevolbalPredicted[0]\n",
    "print(f'totalrevolbalPredicted:{totalrevolbalPredicted:.2f}')"
   ]
  },
  {
   "cell_type": "code",
   "execution_count": null,
   "metadata": {},
   "outputs": [],
   "source": []
  },
  {
   "cell_type": "code",
   "execution_count": null,
   "metadata": {},
   "outputs": [],
   "source": []
  },
  {
   "cell_type": "code",
   "execution_count": null,
   "metadata": {},
   "outputs": [],
   "source": []
  }
 ],
 "metadata": {
  "kernelspec": {
   "display_name": "Python 3",
   "language": "python",
   "name": "python3"
  },
  "language_info": {
   "codemirror_mode": {
    "name": "ipython",
    "version": 3
   },
   "file_extension": ".py",
   "mimetype": "text/x-python",
   "name": "python",
   "nbconvert_exporter": "python",
   "pygments_lexer": "ipython3",
   "version": "3.7.9"
  }
 },
 "nbformat": 4,
 "nbformat_minor": 4
}
